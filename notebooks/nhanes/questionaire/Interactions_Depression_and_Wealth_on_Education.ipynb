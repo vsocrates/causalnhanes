{
 "cells": [
  {
   "cell_type": "code",
   "execution_count": 1,
   "metadata": {},
   "outputs": [],
   "source": [
    "import xport\n",
    "\n",
    "import numpy as np\n",
    "import scipy as scp\n",
    "\n",
    "import pandas as pd\n",
    "import seaborn as sns\n",
    "import matplotlib.pyplot as plt\n",
    "\n",
    "# sns.set(color_codes=True)\n",
    "%matplotlib inline"
   ]
  },
  {
   "cell_type": "code",
   "execution_count": 2,
   "metadata": {},
   "outputs": [
    {
     "name": "stdout",
     "output_type": "stream",
     "text": [
      "(9971, 47)\n",
      "(5735, 11)\n"
     ]
    },
    {
     "data": {
      "text/html": [
       "<div>\n",
       "<style scoped>\n",
       "    .dataframe tbody tr th:only-of-type {\n",
       "        vertical-align: middle;\n",
       "    }\n",
       "\n",
       "    .dataframe tbody tr th {\n",
       "        vertical-align: top;\n",
       "    }\n",
       "\n",
       "    .dataframe thead th {\n",
       "        text-align: right;\n",
       "    }\n",
       "</style>\n",
       "<table border=\"1\" class=\"dataframe\">\n",
       "  <thead>\n",
       "    <tr style=\"text-align: right;\">\n",
       "      <th></th>\n",
       "      <th>SEQN</th>\n",
       "      <th>DPQ010</th>\n",
       "      <th>DPQ020</th>\n",
       "      <th>DPQ030</th>\n",
       "      <th>DPQ040</th>\n",
       "      <th>DPQ050</th>\n",
       "      <th>DPQ060</th>\n",
       "      <th>DPQ070</th>\n",
       "      <th>DPQ080</th>\n",
       "      <th>DPQ090</th>\n",
       "      <th>DPQ100</th>\n",
       "    </tr>\n",
       "  </thead>\n",
       "  <tbody>\n",
       "    <tr>\n",
       "      <th>0</th>\n",
       "      <td>83732.0</td>\n",
       "      <td>0.0</td>\n",
       "      <td>0.0</td>\n",
       "      <td>0.0</td>\n",
       "      <td>1.0</td>\n",
       "      <td>0.0</td>\n",
       "      <td>0.0</td>\n",
       "      <td>0.0</td>\n",
       "      <td>0.0</td>\n",
       "      <td>0.0</td>\n",
       "      <td>0.0</td>\n",
       "    </tr>\n",
       "    <tr>\n",
       "      <th>1</th>\n",
       "      <td>83733.0</td>\n",
       "      <td>1.0</td>\n",
       "      <td>0.0</td>\n",
       "      <td>0.0</td>\n",
       "      <td>0.0</td>\n",
       "      <td>1.0</td>\n",
       "      <td>0.0</td>\n",
       "      <td>0.0</td>\n",
       "      <td>0.0</td>\n",
       "      <td>0.0</td>\n",
       "      <td>0.0</td>\n",
       "    </tr>\n",
       "    <tr>\n",
       "      <th>2</th>\n",
       "      <td>83734.0</td>\n",
       "      <td>0.0</td>\n",
       "      <td>0.0</td>\n",
       "      <td>0.0</td>\n",
       "      <td>1.0</td>\n",
       "      <td>0.0</td>\n",
       "      <td>0.0</td>\n",
       "      <td>0.0</td>\n",
       "      <td>0.0</td>\n",
       "      <td>0.0</td>\n",
       "      <td>1.0</td>\n",
       "    </tr>\n",
       "    <tr>\n",
       "      <th>3</th>\n",
       "      <td>83735.0</td>\n",
       "      <td>1.0</td>\n",
       "      <td>1.0</td>\n",
       "      <td>2.0</td>\n",
       "      <td>2.0</td>\n",
       "      <td>1.0</td>\n",
       "      <td>3.0</td>\n",
       "      <td>2.0</td>\n",
       "      <td>0.0</td>\n",
       "      <td>1.0</td>\n",
       "      <td>0.0</td>\n",
       "    </tr>\n",
       "    <tr>\n",
       "      <th>4</th>\n",
       "      <td>83736.0</td>\n",
       "      <td>1.0</td>\n",
       "      <td>1.0</td>\n",
       "      <td>1.0</td>\n",
       "      <td>1.0</td>\n",
       "      <td>3.0</td>\n",
       "      <td>0.0</td>\n",
       "      <td>1.0</td>\n",
       "      <td>0.0</td>\n",
       "      <td>0.0</td>\n",
       "      <td>0.0</td>\n",
       "    </tr>\n",
       "  </tbody>\n",
       "</table>\n",
       "</div>"
      ],
      "text/plain": [
       "      SEQN  DPQ010  DPQ020  DPQ030  DPQ040  DPQ050  DPQ060  DPQ070  DPQ080  \\\n",
       "0  83732.0     0.0     0.0     0.0     1.0     0.0     0.0     0.0     0.0   \n",
       "1  83733.0     1.0     0.0     0.0     0.0     1.0     0.0     0.0     0.0   \n",
       "2  83734.0     0.0     0.0     0.0     1.0     0.0     0.0     0.0     0.0   \n",
       "3  83735.0     1.0     1.0     2.0     2.0     1.0     3.0     2.0     0.0   \n",
       "4  83736.0     1.0     1.0     1.0     1.0     3.0     0.0     1.0     0.0   \n",
       "\n",
       "   DPQ090  DPQ100  \n",
       "0     0.0     0.0  \n",
       "1     0.0     0.0  \n",
       "2     0.0     1.0  \n",
       "3     1.0     0.0  \n",
       "4     0.0     0.0  "
      ]
     },
     "execution_count": 2,
     "metadata": {},
     "output_type": "execute_result"
    }
   ],
   "source": [
    "# open depression dataset\n",
    "with open(\"../../../data/nhanes/2015_2016/questionaires/DPQ_I.XPT\", 'rb') as f:\n",
    "    depression_df = xport.to_dataframe(f)\n",
    "\n",
    "# open demo dataset\n",
    "with open(\"../../../data/nhanes/2015_2016/demographics/DEMO_I.XPT\", 'rb') as f:\n",
    "    demo_df = xport.to_dataframe(f)\n",
    "\n",
    "# see all the output for a little bit\n",
    "from IPython.core.interactiveshell import InteractiveShell\n",
    "InteractiveShell.ast_node_interactivity = \"last_expr\"\n",
    "\n",
    "print(demo_df.shape)\n",
    "print(depression_df.shape)\n",
    "\n",
    "demo_df.head()\n",
    "depression_df.head()"
   ]
  },
  {
   "cell_type": "code",
   "execution_count": 3,
   "metadata": {},
   "outputs": [
    {
     "name": "stdout",
     "output_type": "stream",
     "text": [
      "(3559, 11)\n",
      "(8919, 47)\n",
      "(5082, 3)\n"
     ]
    }
   ],
   "source": [
    "clean_depression_df = depression_df.loc[(depression_df.DPQ010 != 7) & (depression_df.DPQ010 != 9)\n",
    "                                       & (depression_df.DPQ020 != 7) & (depression_df.DPQ020 != 9)\n",
    "                                       & (depression_df.DPQ030 != 7) & (depression_df.DPQ030 != 9)\n",
    "                                       & (depression_df.DPQ040 != 7) & (depression_df.DPQ040 != 9)\n",
    "                                       & (depression_df.DPQ050 != 7) & (depression_df.DPQ050 != 9)\n",
    "                                       & (depression_df.DPQ060 != 7) & (depression_df.DPQ060 != 9)\n",
    "                                       & (depression_df.DPQ070 != 7) & (depression_df.DPQ070 != 9)                                                            & (depression_df.DPQ080 != 7) & (depression_df.DPQ080 != 9)\n",
    "                                       & (depression_df.DPQ090 != 7) & (depression_df.DPQ090 != 9)\n",
    "                                       & (depression_df.DPQ100 != 7) & (depression_df.DPQ100 != 9)]\n",
    "\n",
    "# print(clean_depression_df.shape)\n",
    "clean_depression_col_list = ['SEQN','DPQ010','DPQ020','DPQ030','DPQ040','DPQ050','DPQ060','DPQ070','DPQ080','DPQ090','DPQ100']\n",
    "clean_depression_df = clean_depression_df[clean_depression_col_list].dropna()\n",
    "print(clean_depression_df.shape)\n",
    "\n",
    "# we are removign all \"$20,000 and Over\", \"Refused, dont' know\", \"Under $20,000\"\n",
    "clean_demo_df = demo_df.loc[(demo_df.INDFMIN2 < 77) & (demo_df.INDFMIN2 != 12) & (demo_df.INDFMIN2 != 13)]\n",
    "print(clean_demo_df.shape)\n",
    "clean_demo_col_list = ['SEQN','INDFMIN2','DMDEDUC2']\n",
    "clean_demo_df = clean_demo_df[clean_demo_col_list].dropna()\n",
    "print(clean_demo_df.shape)"
   ]
  },
  {
   "cell_type": "code",
   "execution_count": 4,
   "metadata": {},
   "outputs": [
    {
     "name": "stdout",
     "output_type": "stream",
     "text": [
      "(3078, 13)\n"
     ]
    }
   ],
   "source": [
    "combined_dataset = pd.merge(clean_demo_df, clean_depression_df, on=\"SEQN\")\n",
    "print(combined_dataset.shape)\n",
    "\n",
    "col_list = ['DPQ010', 'DPQ020', 'DPQ030', 'DPQ040', 'DPQ050', 'DPQ060', 'DPQ070', 'DPQ080', 'DPQ090', 'DPQ100']\n",
    "combined_dataset['DPQ_SUM'] = combined_dataset[col_list].sum(axis=1)\n",
    "combined_dataset.head()\n",
    "\n",
    "total_responders = combined_dataset.shape[0]"
   ]
  },
  {
   "cell_type": "markdown",
   "metadata": {},
   "source": [
    "Depression: d (DPQ_SUM) > 9\n",
    "Wealth: w (INDFMIN2) >= 45000 (8)\n",
    "\n",
    "Education: e (DMDEDUC2) >= some college education (4)"
   ]
  },
  {
   "cell_type": "code",
   "execution_count": 5,
   "metadata": {},
   "outputs": [
    {
     "name": "stdout",
     "output_type": "stream",
     "text": [
      "Interaction on Additive Scale Left Side -0.264457\n",
      "Interaction on Additive Scale Right Side -0.170240\n",
      "Risk Diff Unc Left 0.008653955229327307\n",
      "Risk Diff Unc Right 0.008090014553382027\n",
      "True\n"
     ]
    }
   ],
   "source": [
    "import math\n",
    "\n",
    "d_1w_1 = combined_dataset.loc[(combined_dataset.DPQ_SUM > 9) & (combined_dataset.INDFMIN2 >= 8) & (combined_dataset.DMDEDUC2 >= 4)]\n",
    "d_1w_0 = combined_dataset.loc[(combined_dataset.DPQ_SUM > 9) & (combined_dataset.INDFMIN2 < 8) & (combined_dataset.DMDEDUC2 >= 4)]\n",
    "d_0w_1 = combined_dataset.loc[(combined_dataset.DPQ_SUM <= 9) & (combined_dataset.INDFMIN2 >= 8) & (combined_dataset.DMDEDUC2 >= 4)]\n",
    "d_0w_0 = combined_dataset.loc[(combined_dataset.DPQ_SUM <= 9) & (combined_dataset.INDFMIN2 < 8) & (combined_dataset.DMDEDUC2 >= 4)]\n",
    "\n",
    "risk_diff_left = (len(d_1w_1)/total_responders) - (len(d_0w_1)/total_responders) \n",
    "risk_diff_right = (len(d_1w_0)/total_responders) - (len(d_0w_0)/total_responders) \n",
    "print(\"Interaction on Additive Scale Left Side %f\" % risk_diff_left)\n",
    "print(\"Interaction on Additive Scale Right Side %f\" % risk_diff_right)\n",
    "\n",
    "\n",
    "risk_diff_left_part1 = math.sqrt(((len(d_1w_1)/total_responders))*(1-(len(d_1w_1)/total_responders))/total_responders)\n",
    "risk_diff_left_part2 = math.sqrt(((len(d_0w_1)/total_responders))*(1-(len(d_0w_1)/total_responders))/total_responders)\n",
    "\n",
    "risk_diff_right_part1 = math.sqrt(((len(d_1w_0)/total_responders))*(1-(len(d_1w_0)/total_responders))/total_responders)\n",
    "risk_diff_right_part2 = math.sqrt(((len(d_0w_0)/total_responders))*(1-(len(d_0w_0)/total_responders))/total_responders)\n",
    "\n",
    "print(\"Risk Diff Unc Left\", math.sqrt(math.pow(risk_diff_left_part1,2) + math.pow(risk_diff_left_part2,2) ))\n",
    "print(\"Risk Diff Unc Right\", math.sqrt(math.pow(risk_diff_right_part1,2) + math.pow(risk_diff_right_part2,2)))\n",
    "\n",
    "\n",
    "\n",
    "super_additive = risk_diff_left > risk_diff_right\n",
    "sub_additive = risk_diff_left < risk_diff_right\n",
    "# print(super_additive)\n",
    "print(sub_additive)"
   ]
  },
  {
   "cell_type": "code",
   "execution_count": 6,
   "metadata": {},
   "outputs": [
    {
     "name": "stdout",
     "output_type": "stream",
     "text": [
      "Interaction on Multiplicative Scale Left Side 0.121685\n",
      "Interaction on Multiplicative Scale Right Side 0.254001\n",
      "Risk Ratio Unc Left 0.004006083556377593\n",
      "Risk Ratio Unc Right 0.013633899116227182\n",
      "True\n"
     ]
    }
   ],
   "source": [
    "import math\n",
    "\n",
    "risk_ratio_left = (len(d_1w_1)/total_responders)/(len(d_0w_0)/total_responders)\n",
    "risk_ratio_right = ((len(d_1w_0)/total_responders)/(len(d_0w_0)/total_responders)) * ((len(d_0w_1)/total_responders)/(len(d_0w_0)/total_responders))\n",
    "\n",
    "print(\"Interaction on Multiplicative Scale Left Side %f\" % risk_ratio_left)\n",
    "print(\"Interaction on Multiplicative Scale Right Side %f\" % risk_ratio_right)\n",
    "\n",
    "\n",
    "risk_ratio_left_part1 = math.sqrt(((len(d_1w_1)/total_responders))*(1-(len(d_1w_1)/total_responders))/total_responders)\n",
    "risk_ratio_left_part2 = math.sqrt(((len(d_0w_0)/total_responders))*(1-(len(d_0w_0)/total_responders))/total_responders)\n",
    "\n",
    "risk_ratio_right_part1 = math.sqrt(((len(d_1w_0)/total_responders))*(1-(len(d_1w_0)/total_responders))/total_responders)\n",
    "risk_ratio_right_part2 = math.sqrt(((len(d_0w_0)/total_responders))*(1-(len(d_0w_0)/total_responders))/total_responders)\n",
    "risk_ratio_right_part3 = math.sqrt(((len(d_0w_1)/total_responders))*(1-(len(d_0w_1)/total_responders))/total_responders)\n",
    "risk_ratio_right_part4 = math.sqrt(((len(d_0w_0)/total_responders))*(1-(len(d_0w_0)/total_responders))/total_responders)\n",
    "\n",
    "\n",
    "print(\"Risk Ratio Unc Left\", math.sqrt(math.pow(risk_ratio_left_part1,2) + math.pow(risk_ratio_left_part1,2) ))\n",
    "print(\"Risk Ratio Unc Right\", math.sqrt(math.pow(risk_ratio_right_part1,2) + math.pow(risk_ratio_right_part2,2) + math.pow(risk_ratio_right_part3,2) + math.pow(risk_ratio_right_part4,2) ))\n",
    "\n",
    "\n",
    "\n",
    "super_multiplicative = risk_ratio_left > risk_ratio_right\n",
    "sub_multiplicative = risk_ratio_left < risk_ratio_right\n",
    "# print(super_multiplicative)\n",
    "print(sub_multiplicative)"
   ]
  },
  {
   "cell_type": "code",
   "execution_count": 7,
   "metadata": {},
   "outputs": [
    {
     "name": "stdout",
     "output_type": "stream",
     "text": [
      "Unc Left  0.008653955229327307\n",
      "Unc Right  0.003446745452926222\n",
      "-0.2644574398960364\n",
      "0.038011695906432746\n",
      "Sufficient condition is satisfied: False\n"
     ]
    }
   ],
   "source": [
    "import math\n",
    "\n",
    "suff_cause_left = (len(d_1w_1)/total_responders) - (len(d_0w_1)/total_responders)\n",
    "suff_cause_right = (len(d_1w_0)/total_responders)\n",
    "\n",
    "suff_cause_left_unc_part1 = math.sqrt(((len(d_1w_1)/total_responders))*(1-(len(d_1w_1)/total_responders))/total_responders)\n",
    "suff_cause_left_unc_part2 = math.sqrt(((len(d_0w_1)/total_responders))*(1-(len(d_0w_1)/total_responders))/total_responders)\n",
    "suff_cause_right_unc = math.sqrt(((len(d_1w_0)/total_responders))*(1-(len(d_1w_0)/total_responders))/total_responders)\n",
    "\n",
    "total_unc_left = math.sqrt(math.pow(suff_cause_left_unc_part1,2) + math.pow(suff_cause_left_unc_part2,2))\n",
    "total_unc_right = suff_cause_right_unc\n",
    "print(\"Unc Left \", total_unc_left)\n",
    "print(\"Unc Right \", total_unc_right)\n",
    "\n",
    "\n",
    "print(suff_cause_left)\n",
    "print(suff_cause_right)\n",
    "\n",
    "print(\"Sufficient condition is satisfied: %s\" % (suff_cause_left > suff_cause_right))"
   ]
  },
  {
   "cell_type": "code",
   "execution_count": null,
   "metadata": {},
   "outputs": [],
   "source": []
  }
 ],
 "metadata": {
  "kernelspec": {
   "display_name": "Python 3",
   "language": "python",
   "name": "python3"
  },
  "language_info": {
   "codemirror_mode": {
    "name": "ipython",
    "version": 3
   },
   "file_extension": ".py",
   "mimetype": "text/x-python",
   "name": "python",
   "nbconvert_exporter": "python",
   "pygments_lexer": "ipython3",
   "version": "3.6.3"
  }
 },
 "nbformat": 4,
 "nbformat_minor": 2
}
