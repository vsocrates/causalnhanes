{
 "cells": [
  {
   "cell_type": "markdown",
   "metadata": {},
   "source": [
    "# National Health and Nutrition Examination Survey (NHANES) Analysis of Interactions between Alcohol Use and Depression and Impact on Sleep Disorders"
   ]
  },
  {
   "cell_type": "markdown",
   "metadata": {},
   "source": [
    "## Introduction"
   ]
  },
  {
   "cell_type": "markdown",
   "metadata": {},
   "source": [
    "Documentation about alcohol use dataset: https://wwwn.cdc.gov/Nchs/Nhanes/2015-2016/ALQ_I.htm  \n",
    "Documentation about depression screener dataset: https://wwwn.cdc.gov/Nchs/Nhanes/2015-2016/DPQ_I.htm  \n",
    "Documentation about sleep disorder dataset: https://wwwn.cdc.gov/Nchs/Nhanes/2015-2016/SLQ_I.htm  \n",
    "\n",
    "The two datasets we will be investigating are the alcohol use dataset and the depression screener dataset, with the outcome dataset as the sleep disorder. Our goal is to discover if there are any interactions between the use of alcohol and depression, as they relate to sleep problems. \n",
    "\n",
    "### Alcohol Use Dataset\n",
    "\n",
    "The alcohol use dataset is restricted to only 18 years or older and contains a number of questions (e.g. # alcoholic drinks/day - past 12 mos, and Ever have 4/5 or more drinks every day?). These questions give us an understanding of potential alcoholism. We will make some assumptions to make this causal analysis binary. \n",
    "\n",
    "### Depression Screener Dataset\n",
    "\n",
    "Different from the alcohol use dataset, the depression screen employs the PHQ-9 questionnaire<sup>1</sup> that allows us to collect all the data at the end and calculate a score on depression severity. The levels are _none, mild, moderate, moderately severe,_ and _severe_. We will be looking at _severe_ or otherwise to make the dataset binary again. \n",
    "\n",
    "### Sleep Disorders\n",
    "\n",
    "Finally, our overall analysis will use the presence of sleep disorders as out outcome variable. We are essentially trying to see if alcohol use and depression interact to cause sleep disorders. The relevant questions in the sleep disorder questionnaire that we will be using are \"Ever told doctor had trouble sleeping?\" and \"How often feel overly sleepy during day?\". We will make a combination of these results to test causality. \n",
    "\n",
    "We can see our causal graph for interactions below: \n",
    "\n",
    "<img src=\"../../../images/causal_graph.png\" alt=\"Causal Graph\" style=\"width: 650px;\" />"
   ]
  },
  {
   "cell_type": "markdown",
   "metadata": {},
   "source": [
    "## Setup"
   ]
  },
  {
   "cell_type": "code",
   "execution_count": 1,
   "metadata": {},
   "outputs": [],
   "source": [
    "import xport\n",
    "\n",
    "import numpy as np\n",
    "import scipy as scp\n",
    "\n",
    "import pandas as pd\n",
    "import seaborn as sns\n",
    "import matplotlib.pyplot as plt\n",
    "\n",
    "# sns.set(color_codes=True)\n",
    "%matplotlib inline"
   ]
  },
  {
   "cell_type": "code",
   "execution_count": 2,
   "metadata": {},
   "outputs": [
    {
     "name": "stdout",
     "output_type": "stream",
     "text": [
      "(6327, 8)\n",
      "(5735, 10)\n",
      "(5735, 11)\n"
     ]
    },
    {
     "data": {
      "text/html": [
       "<div>\n",
       "<style scoped>\n",
       "    .dataframe tbody tr th:only-of-type {\n",
       "        vertical-align: middle;\n",
       "    }\n",
       "\n",
       "    .dataframe tbody tr th {\n",
       "        vertical-align: top;\n",
       "    }\n",
       "\n",
       "    .dataframe thead th {\n",
       "        text-align: right;\n",
       "    }\n",
       "</style>\n",
       "<table border=\"1\" class=\"dataframe\">\n",
       "  <thead>\n",
       "    <tr style=\"text-align: right;\">\n",
       "      <th></th>\n",
       "      <th>SEQN</th>\n",
       "      <th>DPQ010</th>\n",
       "      <th>DPQ020</th>\n",
       "      <th>DPQ030</th>\n",
       "      <th>DPQ040</th>\n",
       "      <th>DPQ050</th>\n",
       "      <th>DPQ060</th>\n",
       "      <th>DPQ070</th>\n",
       "      <th>DPQ080</th>\n",
       "      <th>DPQ090</th>\n",
       "      <th>DPQ100</th>\n",
       "    </tr>\n",
       "  </thead>\n",
       "  <tbody>\n",
       "    <tr>\n",
       "      <th>0</th>\n",
       "      <td>83732.0</td>\n",
       "      <td>0.0</td>\n",
       "      <td>0.0</td>\n",
       "      <td>0.0</td>\n",
       "      <td>1.0</td>\n",
       "      <td>0.0</td>\n",
       "      <td>0.0</td>\n",
       "      <td>0.0</td>\n",
       "      <td>0.0</td>\n",
       "      <td>0.0</td>\n",
       "      <td>0.0</td>\n",
       "    </tr>\n",
       "    <tr>\n",
       "      <th>1</th>\n",
       "      <td>83733.0</td>\n",
       "      <td>1.0</td>\n",
       "      <td>0.0</td>\n",
       "      <td>0.0</td>\n",
       "      <td>0.0</td>\n",
       "      <td>1.0</td>\n",
       "      <td>0.0</td>\n",
       "      <td>0.0</td>\n",
       "      <td>0.0</td>\n",
       "      <td>0.0</td>\n",
       "      <td>0.0</td>\n",
       "    </tr>\n",
       "    <tr>\n",
       "      <th>2</th>\n",
       "      <td>83734.0</td>\n",
       "      <td>0.0</td>\n",
       "      <td>0.0</td>\n",
       "      <td>0.0</td>\n",
       "      <td>1.0</td>\n",
       "      <td>0.0</td>\n",
       "      <td>0.0</td>\n",
       "      <td>0.0</td>\n",
       "      <td>0.0</td>\n",
       "      <td>0.0</td>\n",
       "      <td>1.0</td>\n",
       "    </tr>\n",
       "    <tr>\n",
       "      <th>3</th>\n",
       "      <td>83735.0</td>\n",
       "      <td>1.0</td>\n",
       "      <td>1.0</td>\n",
       "      <td>2.0</td>\n",
       "      <td>2.0</td>\n",
       "      <td>1.0</td>\n",
       "      <td>3.0</td>\n",
       "      <td>2.0</td>\n",
       "      <td>0.0</td>\n",
       "      <td>1.0</td>\n",
       "      <td>0.0</td>\n",
       "    </tr>\n",
       "    <tr>\n",
       "      <th>4</th>\n",
       "      <td>83736.0</td>\n",
       "      <td>1.0</td>\n",
       "      <td>1.0</td>\n",
       "      <td>1.0</td>\n",
       "      <td>1.0</td>\n",
       "      <td>3.0</td>\n",
       "      <td>0.0</td>\n",
       "      <td>1.0</td>\n",
       "      <td>0.0</td>\n",
       "      <td>0.0</td>\n",
       "      <td>0.0</td>\n",
       "    </tr>\n",
       "  </tbody>\n",
       "</table>\n",
       "</div>"
      ],
      "text/plain": [
       "      SEQN  DPQ010  DPQ020  DPQ030  DPQ040  DPQ050  DPQ060  DPQ070  DPQ080  \\\n",
       "0  83732.0     0.0     0.0     0.0     1.0     0.0     0.0     0.0     0.0   \n",
       "1  83733.0     1.0     0.0     0.0     0.0     1.0     0.0     0.0     0.0   \n",
       "2  83734.0     0.0     0.0     0.0     1.0     0.0     0.0     0.0     0.0   \n",
       "3  83735.0     1.0     1.0     2.0     2.0     1.0     3.0     2.0     0.0   \n",
       "4  83736.0     1.0     1.0     1.0     1.0     3.0     0.0     1.0     0.0   \n",
       "\n",
       "   DPQ090  DPQ100  \n",
       "0     0.0     0.0  \n",
       "1     0.0     0.0  \n",
       "2     0.0     1.0  \n",
       "3     1.0     0.0  \n",
       "4     0.0     0.0  "
      ]
     },
     "execution_count": 2,
     "metadata": {},
     "output_type": "execute_result"
    }
   ],
   "source": [
    "# open sleep dataset\n",
    "with open(\"../../../data/nhanes/2015_2016/questionaires/SLQ_I.XPT\", 'rb') as f:\n",
    "    sleep_df = xport.to_dataframe(f)\n",
    "\n",
    "# open alcohol dataset\n",
    "with open(\"../../../data/nhanes/2015_2016/questionaires/ALQ_I.XPT\", 'rb') as f:\n",
    "    alc_df = xport.to_dataframe(f)\n",
    "\n",
    "# open depression dataset\n",
    "with open(\"../../../data/nhanes/2015_2016/questionaires/DPQ_I.XPT\", 'rb') as f:\n",
    "    depression_df = xport.to_dataframe(f)\n",
    "\n",
    "# see all the output for a little bit\n",
    "from IPython.core.interactiveshell import InteractiveShell\n",
    "InteractiveShell.ast_node_interactivity = \"all\"\n",
    "\n",
    "print(sleep_df.shape)\n",
    "print(alc_df.shape)\n",
    "print(depression_df.shape)\n",
    "\n",
    "sleep_df.head()\n",
    "alc_df.head()\n",
    "depression_df.head()"
   ]
  },
  {
   "cell_type": "markdown",
   "metadata": {},
   "source": [
    "We will first clean the data by removing patients that: \n",
    "    \n",
    "1. don't know or refused to say if \"Ever have 4/5 or more drinks every day?\"\n",
    "2. don't know or refused to answer any of the depression questions\n",
    "3. don't know or refused to answer \"How often feel overly sleepy during day?\" or \"Ever told doctor had trouble sleeping\""
   ]
  },
  {
   "cell_type": "code",
   "execution_count": 3,
   "metadata": {},
   "outputs": [],
   "source": [
    "# now print last\n",
    "InteractiveShell.ast_node_interactivity = \"last_expr\"\n",
    "\n",
    "\n",
    "clean_alc_df = alc_df.loc[alc_df.ALQ151 != 7]\n",
    "# print(clean_alc_df.shape)\n",
    "\n",
    "# clean_sleep_df = sleep_df.loc[sleep_df.SLQ050 != 9]\n",
    "clean_sleep_df = sleep_df.loc[sleep_df.SLQ120 != 9]\n",
    "# print(clean_sleep_df.shape)\n",
    "    \n",
    "clean_depression_df = depression_df.loc[(depression_df.DPQ010 != 7) & (depression_df.DPQ010 != 9)\n",
    "                                       & (depression_df.DPQ020 != 7) & (depression_df.DPQ020 != 9)\n",
    "                                       & (depression_df.DPQ030 != 7) & (depression_df.DPQ030 != 9)\n",
    "                                       & (depression_df.DPQ040 != 7) & (depression_df.DPQ040 != 9)\n",
    "                                       & (depression_df.DPQ050 != 7) & (depression_df.DPQ050 != 9)\n",
    "                                       & (depression_df.DPQ060 != 7) & (depression_df.DPQ060 != 9)\n",
    "                                       & (depression_df.DPQ070 != 7) & (depression_df.DPQ070 != 9)                                                            & (depression_df.DPQ080 != 7) & (depression_df.DPQ080 != 9)\n",
    "                                       & (depression_df.DPQ090 != 7) & (depression_df.DPQ090 != 9)\n",
    "                                       & (depression_df.DPQ100 != 7) & (depression_df.DPQ100 != 9)]\n",
    "\n",
    "# print(clean_depression_df.shape)"
   ]
  },
  {
   "cell_type": "markdown",
   "metadata": {},
   "source": [
    "## Causal Risk Measures"
   ]
  },
  {
   "cell_type": "markdown",
   "metadata": {},
   "source": [
    "We will calculate the causal risk ratio and risk difference to start exploration. "
   ]
  },
  {
   "cell_type": "code",
   "execution_count": 4,
   "metadata": {},
   "outputs": [
    {
     "name": "stdout",
     "output_type": "stream",
     "text": [
      "(5701, 27)\n"
     ]
    }
   ],
   "source": [
    "# import math\n",
    "# df = pd.DataFrame(np.random.randn(10, 2), columns=list('ab'))\n",
    "# print(df)\n",
    "# df.query('a > b')\n",
    "\n",
    "combined_dataset = pd.merge(clean_alc_df, clean_sleep_df, on=\"SEQN\")\n",
    "combined_dataset = pd.merge(combined_dataset, clean_depression_df, on=\"SEQN\")\n",
    "print(combined_dataset.shape)\n",
    "\n",
    "total_responders = combined_dataset.shape[0]"
   ]
  },
  {
   "cell_type": "markdown",
   "metadata": {},
   "source": [
    "We will be using the sum of all the depression questionnaire questions, how often someone feels \"SLQ120 - How often feel overly sleepy during day?\", and \"ALQ151 - Ever have 4/5 or more drinks every day?\". We are going to use the depression questionnaire and make it binary, but taking >9 and < 9 as the levels. With the sleep disorders, if a study participant feels always sleepy during the day, or not. \n",
    "\n",
    "As we perform the following calculations, **we assume random assignment of treatment** to allow for the observed risks to be the counterfactual risks."
   ]
  },
  {
   "cell_type": "code",
   "execution_count": 5,
   "metadata": {},
   "outputs": [],
   "source": [
    "col_list= list(combined_dataset)\n",
    "col_list.remove('SEQN')\n",
    "# col_list\n",
    "col_list = ['DPQ010', 'DPQ020', 'DPQ030', 'DPQ040', 'DPQ050', 'DPQ060', 'DPQ070', 'DPQ080', 'DPQ090', 'DPQ100']\n",
    "combined_dataset['DPQ_SUM'] = combined_dataset[col_list].sum(axis=1, min_count=len(col_list))\n",
    "# combined_dataset.head()"
   ]
  },
  {
   "cell_type": "code",
   "execution_count": 6,
   "metadata": {},
   "outputs": [
    {
     "name": "stdout",
     "output_type": "stream",
     "text": [
      "Interaction on Additive Scale Left Side -0.010174\n",
      "Interaction on Additive Scale Right Side -0.023329\n",
      "Risk Diff Unc Left 0.0018283162790836988\n",
      "Risk Diff Unc Right 0.0025844375669305097\n",
      "True\n"
     ]
    }
   ],
   "source": [
    "import math\n",
    "\n",
    "a_1d_1 = combined_dataset.loc[(combined_dataset.ALQ151 == 1) & (combined_dataset.DPQ_SUM > 9) & (combined_dataset.SLQ120 == 4)]\n",
    "a_1d_0 = combined_dataset.loc[(combined_dataset.ALQ151 == 1) & (combined_dataset.DPQ_SUM <= 9) & (combined_dataset.SLQ120 == 4)]\n",
    "a_0d_1 = combined_dataset.loc[(combined_dataset.ALQ151 == 2) & (combined_dataset.DPQ_SUM > 9) & (combined_dataset.SLQ120 == 4)]\n",
    "a_0d_0 = combined_dataset.loc[(combined_dataset.ALQ151 == 2) & (combined_dataset.DPQ_SUM <= 9) & (combined_dataset.SLQ120 == 4)]\n",
    "\n",
    "risk_diff_left = (len(a_1d_1)/total_responders) - (len(a_0d_1)/total_responders) \n",
    "risk_diff_right = (len(a_1d_0)/total_responders) - (len(a_0d_0)/total_responders) \n",
    "print(\"Interaction on Additive Scale Left Side %f\" % risk_diff_left)\n",
    "print(\"Interaction on Additive Scale Right Side %f\" % risk_diff_right)\n",
    "\n",
    "\n",
    "risk_diff_left_part1 = math.sqrt(((len(a_1d_1)/total_responders))*(1-(len(a_1d_1)/total_responders))/total_responders)\n",
    "risk_diff_left_part2 = math.sqrt(((len(a_0d_1)/total_responders) )*(1-(len(a_0d_1)/total_responders) )/total_responders)\n",
    "\n",
    "risk_diff_right_part1 = math.sqrt(((len(a_1d_0)/total_responders))*(1-(len(a_1d_0)/total_responders))/total_responders)\n",
    "risk_diff_right_part2 = math.sqrt(((len(a_0d_0)/total_responders))*(1-(len(a_0d_0)/total_responders))/total_responders)\n",
    "\n",
    "print(\"Risk Diff Unc Left\", math.sqrt(math.pow(risk_diff_left_part1,2) + math.pow(risk_diff_left_part2,2) ))\n",
    "print(\"Risk Diff Unc Right\", math.sqrt(math.pow(risk_diff_right_part1,2) + math.pow(risk_diff_right_part2,2)))\n",
    "\n",
    "super_additive = risk_diff_left > risk_diff_right\n",
    "sub_additive = risk_diff_left < risk_diff_right\n",
    "print(super_additive)\n",
    "# print(sub_additive)"
   ]
  },
  {
   "cell_type": "markdown",
   "metadata": {},
   "source": [
    "We have a super-additive interaction, that is pretty low. We will check on the multiplicative scale."
   ]
  },
  {
   "cell_type": "code",
   "execution_count": 7,
   "metadata": {},
   "outputs": [
    {
     "name": "stdout",
     "output_type": "stream",
     "text": [
      "Interaction on Multiplicative Scale Left Side 0.146067\n",
      "Interaction on Multiplicative Scale Right Side 0.119303\n",
      "Risk Ratio Unc Left 0.003257511511355956\n",
      "Risk Ratio Unc Right 0.003812011462095985\n",
      "True\n"
     ]
    }
   ],
   "source": [
    "risk_ratio_left = (len(a_1d_1)/total_responders)/(len(a_0d_0)/total_responders)\n",
    "risk_ratio_right = ((len(a_1d_0)/total_responders)/(len(a_0d_0)/total_responders)) * ((len(a_0d_1)/total_responders)/(len(a_0d_0)/total_responders))\n",
    "\n",
    "print(\"Interaction on Multiplicative Scale Left Side %f\" % risk_ratio_left)\n",
    "print(\"Interaction on Multiplicative Scale Right Side %f\" % risk_ratio_right)\n",
    "\n",
    "\n",
    "risk_ratio_left_part1 = math.sqrt(((len(a_1d_1)/total_responders))*(1-(len(a_1d_1)/total_responders))/total_responders)\n",
    "risk_ratio_left_part1 = math.sqrt(((len(a_0d_0)/total_responders))*(1-(len(a_0d_0)/total_responders))/total_responders)\n",
    "\n",
    "risk_ratio_right_part1 = math.sqrt(((len(a_1d_0)/total_responders))*(1-(len(a_1d_0)/total_responders))/total_responders)\n",
    "risk_ratio_right_part2 = math.sqrt(((len(a_0d_0)/total_responders))*(1-(len(a_0d_0)/total_responders))/total_responders)\n",
    "risk_ratio_right_part3 = math.sqrt(((len(a_0d_1)/total_responders))*(1-(len(a_0d_1)/total_responders))/total_responders)\n",
    "risk_ratio_right_part4 = math.sqrt(((len(a_0d_0)/total_responders))*(1-(len(a_0d_0)/total_responders))/total_responders)\n",
    "\n",
    "\n",
    "print(\"Risk Ratio Unc Left\", math.sqrt(math.pow(risk_ratio_left_part1,2) + math.pow(risk_ratio_left_part1,2) ))\n",
    "print(\"Risk Ratio Unc Right\", math.sqrt(math.pow(risk_ratio_right_part1,2) + math.pow(risk_ratio_right_part2,2) + math.pow(risk_ratio_right_part3,2) + math.pow(risk_ratio_right_part4,2) ))\n",
    "\n",
    "\n",
    "\n",
    "super_multiplicative = risk_ratio_left > risk_ratio_right\n",
    "sub_multiplicative = risk_ratio_left < risk_ratio_right\n",
    "print(super_multiplicative)\n",
    "# print(sub_multiplicative)"
   ]
  },
  {
   "cell_type": "markdown",
   "metadata": {},
   "source": [
    "We have a super-multiplicative interaction, that is pretty low. We will check on the multiplicative scale."
   ]
  },
  {
   "cell_type": "markdown",
   "metadata": {},
   "source": [
    "## Sufficient Cause Interactions"
   ]
  },
  {
   "cell_type": "markdown",
   "metadata": {},
   "source": [
    "We can also answer the question of if particular types of individuals exist. Namely, if receiving both the treatments allows individuals to develop the outcome, but not either of them individually. We can use the following equation (from VanderWeele & Robins, 2007 & 2008) to do the calculation, again assuming random assignment of treatment. \n",
    "\n",
    "<img src=\"../../../images/sufficient_condition.png\" alt=\"Sufficient Condition\" style=\"width: 650px;\" />"
   ]
  },
  {
   "cell_type": "code",
   "execution_count": 8,
   "metadata": {},
   "outputs": [
    {
     "name": "stdout",
     "output_type": "stream",
     "text": [
      "Unc Left  0.0018283162790836988\n",
      "Unc Right  0.0011720183079002694\n",
      "-0.010173653744957024\n",
      "0.00789335204350114\n",
      "Sufficient condition is satisfied: False\n"
     ]
    }
   ],
   "source": [
    "suff_cause_left = (len(a_1d_1)/total_responders) - (len(a_0d_1)/total_responders)\n",
    "suff_cause_right = (len(a_1d_0)/total_responders)\n",
    "\n",
    "\n",
    "suff_cause_left_unc_part1 = math.sqrt((1-(len(a_1d_1)/total_responders))*((len(a_1d_1)/total_responders))/total_responders)\n",
    "suff_cause_left_unc_part2 = math.sqrt(((len(a_0d_1)/total_responders))*(1-(len(a_0d_1)/total_responders))/total_responders)\n",
    "suff_cause_right_unc = math.sqrt(((len(a_1d_0)/total_responders))*(1-(len(a_1d_0)/total_responders))/total_responders)\n",
    "\n",
    "total_unc_left = math.sqrt(math.pow(suff_cause_left_unc_part1,2) + math.pow(suff_cause_left_unc_part2,2))\n",
    "total_unc_right = suff_cause_right_unc\n",
    "print(\"Unc Left \", total_unc_left)\n",
    "print(\"Unc Right \", total_unc_right)\n",
    "\n",
    "print(suff_cause_left)\n",
    "print(suff_cause_right)\n",
    "\n",
    "print(\"Sufficient condition is satisfied: %s\" % (suff_cause_left > suff_cause_right))"
   ]
  },
  {
   "cell_type": "markdown",
   "metadata": {},
   "source": [
    "This sufficient condition is far too strict and can often miss types 7 and 8<sup>3</sup> types of individuals. Therefore, we can actually use **superadditive** interactions to say that there is synergism between the treatments. However, this is only possible if we assume _monotonicity_, which is the concept that \"receiving treatments _A_ and _E_ cannot prevent any individual from developing the outcome.\" In our case that is true since the treatments of alcohol abuse or depression are separate from sleep disorders developing. \n",
    "\n",
    "We can then say that **alcohol abuse and depression both allows individuals to develop the outcome together, but not either of them individually.**"
   ]
  },
  {
   "cell_type": "markdown",
   "metadata": {},
   "source": [
    "## References"
   ]
  },
  {
   "cell_type": "markdown",
   "metadata": {},
   "source": [
    "<sup>1</sup>Kroenke K, Spitzer RL, William JB. The PHQ-9: validity of a brief depression severity measure. J Gen Intern Med 2001; 16: 1606-13.  \n",
    "<sup>2</sup>https://www.niaaa.nih.gov/alcohol-health/overview-alcohol-consumption/moderate-binge-drinking  \n",
    "<sup>3</sup>Hernán MA, Robins JM (2018). Causal Inference. Boca Raton: Chapman & Hall/CRC, forthcoming. pg. 53-68.  "
   ]
  }
 ],
 "metadata": {
  "kernelspec": {
   "display_name": "Python 3",
   "language": "python",
   "name": "python3"
  },
  "language_info": {
   "codemirror_mode": {
    "name": "ipython",
    "version": 3
   },
   "file_extension": ".py",
   "mimetype": "text/x-python",
   "name": "python",
   "nbconvert_exporter": "python",
   "pygments_lexer": "ipython3",
   "version": "3.6.2"
  }
 },
 "nbformat": 4,
 "nbformat_minor": 2
}
